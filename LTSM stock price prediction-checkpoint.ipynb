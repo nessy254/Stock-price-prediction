{
 "cells": [
  {
   "cell_type": "code",
   "execution_count": 9,
   "id": "94f4ed71",
   "metadata": {},
   "outputs": [],
   "source": [
    "import numpy as np\n",
    "import pandas as pd\n",
    "import matplotlib.pyplot as plt\n",
    "from sklearn.preprocessing import MinMaxScaler\n",
    "from tensorflow.keras.models import Sequential\n",
    "from tensorflow.keras.layers import Dense, LSTM\n"
   ]
  },
  {
   "cell_type": "code",
   "execution_count": 10,
   "id": "395dcff1",
   "metadata": {},
   "outputs": [
    {
     "name": "stdout",
     "output_type": "stream",
     "text": [
      "(4531, 7)\n",
      "            Date        Open        High         Low       Close   Adj Close  \\\n",
      "631   2007-07-09    4.727857    4.746429    4.613571    4.654643    3.961652   \n",
      "1869  2012-06-05   20.045357   20.231071   19.940357   20.101070   17.108389   \n",
      "2570  2015-03-20   32.062500   32.099998   31.290001   31.475000   28.400507   \n",
      "3673  2019-08-07   48.852501   49.889999   48.455002   49.759998   48.345051   \n",
      "1080  2009-04-20    4.347500    4.392500    4.255714    4.303571    3.662849   \n",
      "1052  2009-03-10    3.031071    3.184643    3.012857    3.165357    2.694094   \n",
      "4485  2022-10-26  150.960007  151.990005  148.039993  149.350006  148.875351   \n",
      "\n",
      "         Volume  \n",
      "631   995820000  \n",
      "1869  388214400  \n",
      "2570  274780400  \n",
      "3673  133457600  \n",
      "1080  466466000  \n",
      "1052  844258800  \n",
      "4485   88194300  \n"
     ]
    }
   ],
   "source": [
    "data = pd.read_csv(\"AAPL.csv\")\n",
    "print(data.shape)\n",
    "print(data.sample(7))"
   ]
  },
  {
   "cell_type": "code",
   "execution_count": 11,
   "id": "a0da3c06",
   "metadata": {},
   "outputs": [
    {
     "name": "stdout",
     "output_type": "stream",
     "text": [
      "<class 'pandas.core.frame.DataFrame'>\n",
      "RangeIndex: 4531 entries, 0 to 4530\n",
      "Data columns (total 7 columns):\n",
      " #   Column     Non-Null Count  Dtype  \n",
      "---  ------     --------------  -----  \n",
      " 0   Date       4531 non-null   object \n",
      " 1   Open       4531 non-null   float64\n",
      " 2   High       4531 non-null   float64\n",
      " 3   Low        4531 non-null   float64\n",
      " 4   Close      4531 non-null   float64\n",
      " 5   Adj Close  4531 non-null   float64\n",
      " 6   Volume     4531 non-null   int64  \n",
      "dtypes: float64(5), int64(1), object(1)\n",
      "memory usage: 247.9+ KB\n"
     ]
    }
   ],
   "source": [
    "data.info()\n",
    "\n",
    "#dataset = dataset.astype('float32')"
   ]
  },
  {
   "cell_type": "code",
   "execution_count": 12,
   "id": "24234562",
   "metadata": {},
   "outputs": [
    {
     "name": "stdout",
     "output_type": "stream",
     "text": [
      "<class 'pandas.core.frame.DataFrame'>\n",
      "RangeIndex: 4531 entries, 0 to 4530\n",
      "Data columns (total 7 columns):\n",
      " #   Column     Non-Null Count  Dtype         \n",
      "---  ------     --------------  -----         \n",
      " 0   Date       4531 non-null   datetime64[ns]\n",
      " 1   Open       4531 non-null   float64       \n",
      " 2   High       4531 non-null   float64       \n",
      " 3   Low        4531 non-null   float64       \n",
      " 4   Close      4531 non-null   float64       \n",
      " 5   Adj Close  4531 non-null   float64       \n",
      " 6   Volume     4531 non-null   int64         \n",
      "dtypes: datetime64[ns](1), float64(5), int64(1)\n",
      "memory usage: 247.9 KB\n"
     ]
    }
   ],
   "source": [
    "data['Date'] = pd.to_datetime(data['Date'])\n",
    "data.info()"
   ]
  },
  {
   "cell_type": "code",
   "execution_count": 13,
   "id": "316a3f4e",
   "metadata": {},
   "outputs": [],
   "source": [
    "# Preprocess the data\n",
    "scaler = MinMaxScaler(feature_range=(0, 1))\n",
    "scaled_data = scaler.fit_transform(data['Close'].values.reshape(-1, 1))"
   ]
  },
  {
   "cell_type": "code",
   "execution_count": 14,
   "id": "f045dba1",
   "metadata": {},
   "outputs": [],
   "source": [
    "# Split the data into training and testing sets\n",
    "train_size = int(len(scaled_data) * 0.8)\n",
    "test_size = len(scaled_data) - train_size\n",
    "train_data = scaled_data[0:train_size, :]\n",
    "test_data = scaled_data[train_size:len(scaled_data), :]"
   ]
  },
  {
   "cell_type": "code",
   "execution_count": 15,
   "id": "5e50aa12",
   "metadata": {},
   "outputs": [],
   "source": [
    "# Create the training and testing data\n",
    "def create_dataset(dataset, time_steps=1):\n",
    "    X_data, y_data = [], []\n",
    "    for i in range(len(dataset)-time_steps-1):\n",
    "        X_data.append(dataset[i:(i+time_steps), 0])\n",
    "        y_data.append(dataset[i + time_steps, 0])\n",
    "    return np.array(X_data), np.array(y_data)\n",
    "\n",
    "time_steps = 20\n",
    "X_train, y_train = create_dataset(train_data, time_steps)\n",
    "X_test, y_test = create_dataset(test_data, time_steps)\n"
   ]
  },
  {
   "cell_type": "code",
   "execution_count": 16,
   "id": "d195979d",
   "metadata": {},
   "outputs": [],
   "source": [
    "# Build the LSTM model\n",
    "model = Sequential()\n",
    "model.add(LSTM(50, return_sequences=True, input_shape=(X_train.shape[1], 1)))\n",
    "model.add(LSTM(50))\n",
    "model.add(Dense(1))\n",
    "model.compile(optimizer='adam', loss='mean_squared_error')\n"
   ]
  },
  {
   "cell_type": "code",
   "execution_count": 17,
   "id": "00c34533",
   "metadata": {},
   "outputs": [
    {
     "name": "stdout",
     "output_type": "stream",
     "text": [
      "Epoch 1/50\n",
      "57/57 [==============================] - 24s 41ms/step - loss: 0.0013\n",
      "Epoch 2/50\n",
      "57/57 [==============================] - 2s 37ms/step - loss: 3.1780e-05\n",
      "Epoch 3/50\n",
      "57/57 [==============================] - 2s 37ms/step - loss: 2.7308e-05\n",
      "Epoch 4/50\n",
      "57/57 [==============================] - 2s 42ms/step - loss: 2.6906e-05\n",
      "Epoch 5/50\n",
      "57/57 [==============================] - 2s 36ms/step - loss: 2.6543e-05\n",
      "Epoch 6/50\n",
      "57/57 [==============================] - 2s 37ms/step - loss: 2.6415e-05\n",
      "Epoch 7/50\n",
      "57/57 [==============================] - 2s 41ms/step - loss: 2.9359e-05\n",
      "Epoch 8/50\n",
      "57/57 [==============================] - 2s 36ms/step - loss: 2.4167e-05\n",
      "Epoch 9/50\n",
      "57/57 [==============================] - 2s 36ms/step - loss: 2.4921e-05\n",
      "Epoch 10/50\n",
      "57/57 [==============================] - 2s 35ms/step - loss: 2.4774e-05: 1s\n",
      "Epoch 11/50\n",
      "57/57 [==============================] - 2s 36ms/step - loss: 2.4549e-05: 1s - \n",
      "Epoch 12/50\n",
      "57/57 [==============================] - 2s 38ms/step - loss: 2.3113e-05: 0s - los\n",
      "Epoch 13/50\n",
      "57/57 [==============================] - 2s 40ms/step - loss: 2.0634e-05\n",
      "Epoch 14/50\n",
      "57/57 [==============================] - 2s 38ms/step - loss: 2.0515e-05\n",
      "Epoch 15/50\n",
      "57/57 [==============================] - 2s 37ms/step - loss: 2.3405e-05\n",
      "Epoch 16/50\n",
      "57/57 [==============================] - 2s 39ms/step - loss: 2.0460e-05\n",
      "Epoch 17/50\n",
      "57/57 [==============================] - 2s 37ms/step - loss: 1.9435e-05\n",
      "Epoch 18/50\n",
      "57/57 [==============================] - 2s 34ms/step - loss: 1.8639e-05\n",
      "Epoch 19/50\n",
      "57/57 [==============================] - 2s 34ms/step - loss: 1.7458e-05\n",
      "Epoch 20/50\n",
      "57/57 [==============================] - 2s 36ms/step - loss: 2.1856e-05\n",
      "Epoch 21/50\n",
      "57/57 [==============================] - 2s 37ms/step - loss: 2.0181e-05: 0s - loss: 2.0704\n",
      "Epoch 22/50\n",
      "57/57 [==============================] - 2s 37ms/step - loss: 1.6075e-05\n",
      "Epoch 23/50\n",
      "57/57 [==============================] - 2s 36ms/step - loss: 1.8601e-05: 0s - los\n",
      "Epoch 24/50\n",
      "57/57 [==============================] - 2s 34ms/step - loss: 1.7688e-05: 0s - loss:\n",
      "Epoch 25/50\n",
      "57/57 [==============================] - 2s 33ms/step - loss: 1.5996e-05\n",
      "Epoch 26/50\n",
      "57/57 [==============================] - 2s 33ms/step - loss: 1.5784e-05\n",
      "Epoch 27/50\n",
      "57/57 [==============================] - 2s 33ms/step - loss: 1.6677e-05\n",
      "Epoch 28/50\n",
      "57/57 [==============================] - 2s 33ms/step - loss: 1.4811e-05\n",
      "Epoch 29/50\n",
      "57/57 [==============================] - 2s 34ms/step - loss: 1.6525e-05\n",
      "Epoch 30/50\n",
      "57/57 [==============================] - 2s 33ms/step - loss: 1.3505e-05\n",
      "Epoch 31/50\n",
      "57/57 [==============================] - 2s 33ms/step - loss: 1.7253e-05\n",
      "Epoch 32/50\n",
      "57/57 [==============================] - 2s 38ms/step - loss: 1.4762e-05\n",
      "Epoch 33/50\n",
      "57/57 [==============================] - 2s 33ms/step - loss: 1.3346e-05: 0s - loss: 1.3422e-\n",
      "Epoch 34/50\n",
      "57/57 [==============================] - 2s 32ms/step - loss: 1.2914e-05\n",
      "Epoch 35/50\n",
      "57/57 [==============================] - 2s 33ms/step - loss: 1.2552e-05\n",
      "Epoch 36/50\n",
      "57/57 [==============================] - 2s 33ms/step - loss: 1.4042e-05\n",
      "Epoch 37/50\n",
      "57/57 [==============================] - 2s 36ms/step - loss: 1.2508e-05\n",
      "Epoch 38/50\n",
      "57/57 [==============================] - 2s 37ms/step - loss: 1.4479e-05\n",
      "Epoch 39/50\n",
      "57/57 [==============================] - 2s 36ms/step - loss: 1.6386e-05:\n",
      "Epoch 40/50\n",
      "57/57 [==============================] - 2s 35ms/step - loss: 1.2474e-05\n",
      "Epoch 41/50\n",
      "57/57 [==============================] - 2s 34ms/step - loss: 1.3414e-05\n",
      "Epoch 42/50\n",
      "57/57 [==============================] - 2s 33ms/step - loss: 1.2542e-05\n",
      "Epoch 43/50\n",
      "57/57 [==============================] - 2s 33ms/step - loss: 1.0971e-05\n",
      "Epoch 44/50\n",
      "57/57 [==============================] - 2s 33ms/step - loss: 1.0850e-05: 1s\n",
      "Epoch 45/50\n",
      "57/57 [==============================] - 2s 34ms/step - loss: 1.1683e-05\n",
      "Epoch 46/50\n",
      "57/57 [==============================] - 2s 33ms/step - loss: 1.1448e-05\n",
      "Epoch 47/50\n",
      "57/57 [==============================] - 2s 37ms/step - loss: 1.4361e-05: 0s - loss: 1\n",
      "Epoch 48/50\n",
      "57/57 [==============================] - 2s 35ms/step - loss: 1.0416e-05\n",
      "Epoch 49/50\n",
      "57/57 [==============================] - 2s 34ms/step - loss: 1.2361e-05\n",
      "Epoch 50/50\n",
      "57/57 [==============================] - 2s 33ms/step - loss: 1.0907e-05: 0s - lo\n"
     ]
    },
    {
     "data": {
      "text/plain": [
       "<keras.callbacks.History at 0x22f623ec130>"
      ]
     },
     "execution_count": 17,
     "metadata": {},
     "output_type": "execute_result"
    }
   ],
   "source": [
    "# Train the model\n",
    "model.fit(X_train, y_train, epochs=50, batch_size=64)"
   ]
  },
  {
   "cell_type": "code",
   "execution_count": 18,
   "id": "da836d98",
   "metadata": {},
   "outputs": [],
   "source": [
    "# Test the model\n",
    "predictions = model.predict(X_test)\n",
    "predictions = scaler.inverse_transform(predictions)"
   ]
  },
  {
   "cell_type": "code",
   "execution_count": 19,
   "id": "41ca329f",
   "metadata": {},
   "outputs": [
    {
     "data": {
      "image/png": "[encoded data removed]",
      "text/plain": [
       "<Figure size 432x288 with 1 Axes>"
      ]
     },
     "metadata": {
      "needs_background": "light"
     },
     "output_type": "display_data"
    }
   ],
   "source": [
    "# Plot the results\n",
    "plt.plot(data['Close'][train_size + time_steps + 1:], label='Actual Price')\n",
    "plt.plot(predictions, label='Predicted Price')\n",
    "plt.legend()\n",
    "plt.show()"
   ]
  },
  {
   "cell_type": "code",
   "execution_count": 21,
   "id": "ac0b5a82",
   "metadata": {},
   "outputs": [],
   "source": [
    "#save model to a .h5 file\n",
    "model.save('LTSM_model.h5')"
   ]
  },
  {
   "cell_type": "code",
   "execution_count": null,
   "id": "810b32d8",
   "metadata": {},
   "outputs": [],
   "source": [
    "\n",
    "\n"
   ]
  },
  {
   "cell_type": "code",
   "execution_count": null,
   "id": "a939eef8",
   "metadata": {},
   "outputs": [],
   "source": []
  }
 ],
 "metadata": {
  "kernelspec": {
   "display_name": "Python 3 (ipykernel)",
   "language": "python",
   "name": "python3"
  },
  "language_info": {
   "codemirror_mode": {
    "name": "ipython",
    "version": 3
   },
   "file_extension": ".py",
   "mimetype": "text/x-python",
   "name": "python",
   "nbconvert_exporter": "python",
   "pygments_lexer": "ipython3",
   "version": "3.9.12"
  }
 },
 "nbformat": 4,
 "nbformat_minor": 5
}
